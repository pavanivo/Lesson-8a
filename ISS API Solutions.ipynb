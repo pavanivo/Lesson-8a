{
 "cells": [
  {
   "cell_type": "code",
   "execution_count": null,
   "metadata": {},
   "outputs": [],
   "source": [
    "# Link to API\n",
    "http://api.open-notify.org/astros.json"
   ]
  },
  {
   "cell_type": "code",
   "execution_count": 1,
   "metadata": {},
   "outputs": [],
   "source": [
    "# Get the resopnse from teh API endpoint\n",
    "import requests\n",
    "\n",
    "# Make API call\n",
    "response = requests.get(\"http://api.open-notify.org/astros.json\")\n",
    "\n",
    "# Instantiate the call to a object called \"data\"\n",
    "data = response.json()"
   ]
  },
  {
   "cell_type": "code",
   "execution_count": 2,
   "metadata": {},
   "outputs": [
    {
     "data": {
      "text/plain": [
       "{'message': 'success',\n",
       " 'people': [{'name': 'Alexey Ovchinin', 'craft': 'ISS'},\n",
       "  {'name': 'Nick Hague', 'craft': 'ISS'},\n",
       "  {'name': 'Christina Koch', 'craft': 'ISS'},\n",
       "  {'name': 'Alexander Skvortsov', 'craft': 'ISS'},\n",
       "  {'name': 'Luca Parmitano', 'craft': 'ISS'},\n",
       "  {'name': 'Andrew Morgan', 'craft': 'ISS'}],\n",
       " 'number': 6}"
      ]
     },
     "execution_count": 2,
     "metadata": {},
     "output_type": "execute_result"
    }
   ],
   "source": [
    "data"
   ]
  },
  {
   "cell_type": "code",
   "execution_count": 10,
   "metadata": {},
   "outputs": [],
   "source": [
    "import pandas as pd\n",
    "from pandas.io.json import json_normalize\n",
    "\n",
    "df = pd.DataFrame.from_dict(data, orient='columns') "
   ]
  },
  {
   "cell_type": "code",
   "execution_count": 11,
   "metadata": {},
   "outputs": [
    {
     "data": {
      "text/html": [
       "<div>\n",
       "<style scoped>\n",
       "    .dataframe tbody tr th:only-of-type {\n",
       "        vertical-align: middle;\n",
       "    }\n",
       "\n",
       "    .dataframe tbody tr th {\n",
       "        vertical-align: top;\n",
       "    }\n",
       "\n",
       "    .dataframe thead th {\n",
       "        text-align: right;\n",
       "    }\n",
       "</style>\n",
       "<table border=\"1\" class=\"dataframe\">\n",
       "  <thead>\n",
       "    <tr style=\"text-align: right;\">\n",
       "      <th></th>\n",
       "      <th>message</th>\n",
       "      <th>people</th>\n",
       "      <th>number</th>\n",
       "    </tr>\n",
       "  </thead>\n",
       "  <tbody>\n",
       "    <tr>\n",
       "      <th>0</th>\n",
       "      <td>success</td>\n",
       "      <td>{'name': 'Alexey Ovchinin', 'craft': 'ISS'}</td>\n",
       "      <td>6</td>\n",
       "    </tr>\n",
       "    <tr>\n",
       "      <th>1</th>\n",
       "      <td>success</td>\n",
       "      <td>{'name': 'Nick Hague', 'craft': 'ISS'}</td>\n",
       "      <td>6</td>\n",
       "    </tr>\n",
       "    <tr>\n",
       "      <th>2</th>\n",
       "      <td>success</td>\n",
       "      <td>{'name': 'Christina Koch', 'craft': 'ISS'}</td>\n",
       "      <td>6</td>\n",
       "    </tr>\n",
       "    <tr>\n",
       "      <th>3</th>\n",
       "      <td>success</td>\n",
       "      <td>{'name': 'Alexander Skvortsov', 'craft': 'ISS'}</td>\n",
       "      <td>6</td>\n",
       "    </tr>\n",
       "    <tr>\n",
       "      <th>4</th>\n",
       "      <td>success</td>\n",
       "      <td>{'name': 'Luca Parmitano', 'craft': 'ISS'}</td>\n",
       "      <td>6</td>\n",
       "    </tr>\n",
       "    <tr>\n",
       "      <th>5</th>\n",
       "      <td>success</td>\n",
       "      <td>{'name': 'Andrew Morgan', 'craft': 'ISS'}</td>\n",
       "      <td>6</td>\n",
       "    </tr>\n",
       "  </tbody>\n",
       "</table>\n",
       "</div>"
      ],
      "text/plain": [
       "   message                                           people  number\n",
       "0  success      {'name': 'Alexey Ovchinin', 'craft': 'ISS'}       6\n",
       "1  success           {'name': 'Nick Hague', 'craft': 'ISS'}       6\n",
       "2  success       {'name': 'Christina Koch', 'craft': 'ISS'}       6\n",
       "3  success  {'name': 'Alexander Skvortsov', 'craft': 'ISS'}       6\n",
       "4  success       {'name': 'Luca Parmitano', 'craft': 'ISS'}       6\n",
       "5  success        {'name': 'Andrew Morgan', 'craft': 'ISS'}       6"
      ]
     },
     "execution_count": 11,
     "metadata": {},
     "output_type": "execute_result"
    }
   ],
   "source": [
    "df"
   ]
  },
  {
   "cell_type": "code",
   "execution_count": 13,
   "metadata": {},
   "outputs": [
    {
     "data": {
      "text/html": [
       "<div>\n",
       "<style scoped>\n",
       "    .dataframe tbody tr th:only-of-type {\n",
       "        vertical-align: middle;\n",
       "    }\n",
       "\n",
       "    .dataframe tbody tr th {\n",
       "        vertical-align: top;\n",
       "    }\n",
       "\n",
       "    .dataframe thead th {\n",
       "        text-align: right;\n",
       "    }\n",
       "</style>\n",
       "<table border=\"1\" class=\"dataframe\">\n",
       "  <thead>\n",
       "    <tr style=\"text-align: right;\">\n",
       "      <th></th>\n",
       "      <th>message</th>\n",
       "      <th>number</th>\n",
       "      <th>name</th>\n",
       "      <th>craft</th>\n",
       "    </tr>\n",
       "  </thead>\n",
       "  <tbody>\n",
       "    <tr>\n",
       "      <th>0</th>\n",
       "      <td>success</td>\n",
       "      <td>6</td>\n",
       "      <td>Alexey Ovchinin</td>\n",
       "      <td>ISS</td>\n",
       "    </tr>\n",
       "    <tr>\n",
       "      <th>1</th>\n",
       "      <td>success</td>\n",
       "      <td>6</td>\n",
       "      <td>Nick Hague</td>\n",
       "      <td>ISS</td>\n",
       "    </tr>\n",
       "    <tr>\n",
       "      <th>2</th>\n",
       "      <td>success</td>\n",
       "      <td>6</td>\n",
       "      <td>Christina Koch</td>\n",
       "      <td>ISS</td>\n",
       "    </tr>\n",
       "    <tr>\n",
       "      <th>3</th>\n",
       "      <td>success</td>\n",
       "      <td>6</td>\n",
       "      <td>Alexander Skvortsov</td>\n",
       "      <td>ISS</td>\n",
       "    </tr>\n",
       "    <tr>\n",
       "      <th>4</th>\n",
       "      <td>success</td>\n",
       "      <td>6</td>\n",
       "      <td>Luca Parmitano</td>\n",
       "      <td>ISS</td>\n",
       "    </tr>\n",
       "    <tr>\n",
       "      <th>5</th>\n",
       "      <td>success</td>\n",
       "      <td>6</td>\n",
       "      <td>Andrew Morgan</td>\n",
       "      <td>ISS</td>\n",
       "    </tr>\n",
       "  </tbody>\n",
       "</table>\n",
       "</div>"
      ],
      "text/plain": [
       "   message  number                 name craft\n",
       "0  success       6      Alexey Ovchinin   ISS\n",
       "1  success       6           Nick Hague   ISS\n",
       "2  success       6       Christina Koch   ISS\n",
       "3  success       6  Alexander Skvortsov   ISS\n",
       "4  success       6       Luca Parmitano   ISS\n",
       "5  success       6        Andrew Morgan   ISS"
      ]
     },
     "execution_count": 13,
     "metadata": {},
     "output_type": "execute_result"
    }
   ],
   "source": [
    "pd.concat([df.drop(['people'], axis=1), df['people'].apply(pd.Series)], axis=1)"
   ]
  },
  {
   "cell_type": "code",
   "execution_count": 14,
   "metadata": {},
   "outputs": [],
   "source": [
    "df.to_csv('ISS_people.csv')"
   ]
  },
  {
   "cell_type": "code",
   "execution_count": null,
   "metadata": {},
   "outputs": [],
   "source": []
  }
 ],
 "metadata": {
  "kernelspec": {
   "display_name": "Python 3",
   "language": "python",
   "name": "python3"
  },
  "language_info": {
   "codemirror_mode": {
    "name": "ipython",
    "version": 3
   },
   "file_extension": ".py",
   "mimetype": "text/x-python",
   "name": "python",
   "nbconvert_exporter": "python",
   "pygments_lexer": "ipython3",
   "version": "3.7.3"
  }
 },
 "nbformat": 4,
 "nbformat_minor": 2
}
